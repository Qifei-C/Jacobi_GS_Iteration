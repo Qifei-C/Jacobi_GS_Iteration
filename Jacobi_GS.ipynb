{
 "cells": [
  {
   "cell_type": "markdown",
   "metadata": {},
   "source": [
    "# Setting Up Environment and Packages "
   ]
  },
  {
   "cell_type": "markdown",
   "metadata": {},
   "source": [
    "Import package numpy use in the program"
   ]
  },
  {
   "cell_type": "code",
   "execution_count": 1,
   "metadata": {},
   "outputs": [],
   "source": [
    "import numpy as np\n",
    "import warnings\n",
    "warnings.filterwarnings(\"ignore\", category=RuntimeWarning)"
   ]
  },
  {
   "cell_type": "markdown",
   "metadata": {},
   "source": [
    "---"
   ]
  },
  {
   "cell_type": "markdown",
   "metadata": {},
   "source": [
    "# Programs"
   ]
  },
  {
   "cell_type": "markdown",
   "metadata": {},
   "source": [
    "## Program 1: Solve linear system using Jacobi Iteration method."
   ]
  },
  {
   "cell_type": "markdown",
   "metadata": {},
   "source": [
    "The iteration process start with writing the linear system into matrix form i.e. $Ax=b$. Then decompose the matrix $A$ into a diagonal matrix, strictly upper and lower matrixs. \n",
    "$$\n",
    "A=D-L-U\n",
    "$$\n",
    "Then we can rearrange the equation above to solve for x:\n",
    "\\begin{align*}\n",
    "T_j&=D^{-1}(L+U) \\\\ \n",
    "c_j&=D^{-1}b\n",
    "\\end{align*}\n",
    "With any initial guess of $x$ (Here we pick x^{(0)}=0, Applying the iterate formula\n",
    "$$\n",
    "x^{k}=T_jx^{k-1}+c_j\n",
    "$$\n",
    "During the iteration process, int $itr$ is used to record the number of iterations. When the stopping criteria\n",
    "$$\n",
    "\\frac{||x^{(n)}-x^{(n-1)}||_{\\infty}}{||x^{(n)}||_\\infty}<TOL \\quad \\text{or} \\quad itr > max\\_iterations\n",
    "$$\n",
    "is met, iteration stopped. The function will return the iteration matrix, approximate result, iteration times."
   ]
  },
  {
   "cell_type": "code",
   "execution_count": 2,
   "metadata": {},
   "outputs": [],
   "source": [
    "def Jacobi(A,b,x0,TOL):\n",
    "    D=np.diag(np.diag(A))\n",
    "    U=-np.triu(A,1)\n",
    "    L=-np.tril(A,-1)\n",
    "    Tj=np.linalg.inv(D)@(L+U)\n",
    "    cj=np.linalg.inv(D)@b\n",
    "    x=Tj@x0+cj\n",
    "    itr = 1\n",
    "    max_itr=50\n",
    "    while (max(abs(x-x0))/max(abs(x))>TOL) and (itr<max_itr):\n",
    "        x0=x\n",
    "        x=Tj@x0+cj\n",
    "        itr += 1\n",
    "    return [Tj,x,itr]"
   ]
  },
  {
   "cell_type": "markdown",
   "metadata": {},
   "source": [
    "## Program 2: Solve linear system using Gauss-Seidel Method."
   ]
  },
  {
   "cell_type": "markdown",
   "metadata": {},
   "source": [
    "The iteration process using Gauss-Seidel is slightly different with Jacobi method. The different is basically on the iteration formula:\n",
    "\\begin{align*}\n",
    "T_g&=(D-L)^{-1}U \\\\\n",
    "c_g&=(D-L)^{-1}b\n",
    "\\end{align*}\n",
    "With any initial guess of $x$ (Here we pick x^{(0)}=0, Applying the iterate formula\n",
    "$$\n",
    "x^{k}=T_gx^{k-1}+c_g\n",
    "$$\n",
    "During the iteration process, int $itr$ is used to record the number of iterations, max_iterations is the largest time of iteration (50 times). When the stopping criteria\n",
    "$$\n",
    "\\frac{||x^{(n)}-x^{(n-1)}||_{\\infty}}{||x^{(n)}||_\\infty}<TOL \\quad \\text{or} \\quad itr > max\\_iterations\n",
    "$$\n",
    "is met, iteration stopped. The function will return the iteration matrix, approximate result, iteration times."
   ]
  },
  {
   "cell_type": "code",
   "execution_count": 3,
   "metadata": {},
   "outputs": [],
   "source": [
    "def Gauss(A,b,x0,TOL):\n",
    "    D=np.diag(np.diag(A))\n",
    "    U=-np.triu(A,1)\n",
    "    L=-np.tril(A,-1)\n",
    "\n",
    "    Tg=(np.linalg.inv(D-L))@U\n",
    "    cg=np.linalg.inv(D-L)@b\n",
    "    x=Tg@x0+cg\n",
    "    itr = 1\n",
    "    max_itr=50\n",
    "    while (max(abs(x-x0))/max(abs(x))>TOL) and (itr<max_itr):\n",
    "        x0=x\n",
    "        x=Tg@x0+cg\n",
    "        itr += 1\n",
    "    return [Tg,x,itr]"
   ]
  },
  {
   "cell_type": "markdown",
   "metadata": {},
   "source": [
    "## Program: Precise Solution"
   ]
  },
  {
   "cell_type": "markdown",
   "metadata": {},
   "source": [
    "For any linear system $Ax=b$, there is \n",
    "$$\n",
    "x=A^{-1}b\n",
    "$$\n",
    "with this method we can find the precise solution and compare it with the results we get from the iteration."
   ]
  },
  {
   "cell_type": "code",
   "execution_count": 4,
   "metadata": {},
   "outputs": [],
   "source": [
    "def Real(A,b):\n",
    "    x=np.linalg.inv(A)@b\n",
    "    return [x]"
   ]
  },
  {
   "cell_type": "markdown",
   "metadata": {},
   "source": [
    "***"
   ]
  },
  {
   "cell_type": "markdown",
   "metadata": {},
   "source": [
    "# Apply on Linear Systems"
   ]
  },
  {
   "cell_type": "markdown",
   "metadata": {},
   "source": [
    "## Linear System 1"
   ]
  },
  {
   "cell_type": "markdown",
   "metadata": {},
   "source": [
    "\\begin{align*}\n",
    "x_1+2x_2-2x_3&=7 \\\\\n",
    "x_1+x_2+x_3&=2 \\\\\n",
    "2x_1+2x_2+x_3&=5\n",
    "\\end{align*}"
   ]
  },
  {
   "cell_type": "markdown",
   "metadata": {},
   "source": [
    "Decompose the matrix as above"
   ]
  },
  {
   "cell_type": "markdown",
   "metadata": {},
   "source": [
    "$$\n",
    "\\begin{matrix}\n",
    "A=\\left[\\begin{matrix}\n",
    "1 & 2 & -1 \\\\\n",
    "1 & 1 & 1 \\\\\n",
    "2 & 2 & 1\n",
    "\\end{matrix}\\right]\n",
    "&\n",
    "D=\\left[\\begin{matrix}\n",
    "1 & 0 & 0 \\\\\n",
    "0 & 1 & 0 \\\\\n",
    "0 & 0 & 1\n",
    "\\end{matrix}\\right]\n",
    "&\n",
    "U=\\left[\\begin{matrix}\n",
    "0 & -2 & 1 \\\\\n",
    "0 & 0 & -1 \\\\\n",
    "0 & 0 & 0\n",
    "\\end{matrix}\\right]\n",
    "&\n",
    "L=\\left[\\begin{matrix}\n",
    "0 & 0 & 0 \\\\\n",
    "-1 & 0 & 0 \\\\\n",
    "-2 & -2 & 0\n",
    "\\end{matrix}\\right]\n",
    "&\n",
    "b=\\left[\\begin{matrix}\n",
    "7 \\\\ 2 \\\\ 5\n",
    "\\end{matrix}\\right]\n",
    "\\end{matrix}\n",
    "$$"
   ]
  },
  {
   "cell_type": "markdown",
   "metadata": {},
   "source": [
    "Start with initial guess $x^{(0)}=0$, and $TOL=10^{-5}$"
   ]
  },
  {
   "cell_type": "code",
   "execution_count": 5,
   "metadata": {},
   "outputs": [],
   "source": [
    "A1=np.matrix([[1,2,-2],[1,1,1],[2,2,1]])\n",
    "b1=np.matrix([[7],[2],[5]])\n",
    "x0=np.matrix([[0],[0],[0]])"
   ]
  },
  {
   "cell_type": "markdown",
   "metadata": {},
   "source": [
    "The results are"
   ]
  },
  {
   "cell_type": "code",
   "execution_count": 6,
   "metadata": {},
   "outputs": [
    {
     "name": "stdout",
     "output_type": "stream",
     "text": [
      "[array([[ 0., -2.,  2.],\n",
      "       [-1.,  0., -1.],\n",
      "       [-2., -2.,  0.]]), matrix([[ 1.],\n",
      "        [ 2.],\n",
      "        [-1.]]), 4]\n",
      "[array([[ 0., -2.,  2.],\n",
      "       [ 0.,  2., -3.],\n",
      "       [ 0.,  0.,  2.]]), matrix([[ 8.61313429e+16],\n",
      "        [-8.66942928e+16],\n",
      "        [ 1.12589991e+15]]), 50]\n",
      "[matrix([[ 1.],\n",
      "        [ 2.],\n",
      "        [-1.]])]\n"
     ]
    }
   ],
   "source": [
    "print(Jacobi(A1,b1,x0,0.00001))\n",
    "print(Gauss(A1,b1,x0,0.00001))\n",
    "print(Real(A1,b1))"
   ]
  },
  {
   "cell_type": "markdown",
   "metadata": {},
   "source": [
    "The approximate solution given by Jacobi Iteration is $[1,2,-1]^{T}$; the approximate solution given by G-S Iteration is **not converge**; the precise solution is $[1,2,-1]^{T}$."
   ]
  },
  {
   "cell_type": "markdown",
   "metadata": {},
   "source": [
    "## Linear System 2"
   ]
  },
  {
   "cell_type": "markdown",
   "metadata": {},
   "source": [
    "\\begin{align*}\n",
    "2x_1-x_2+x_3&=-1 \\\\\n",
    "2x_1+2x_2+2x_3&=4 \\\\\n",
    "-x_1-x_2+2x_3&=-5 \\\\\n",
    "\\end{align*}"
   ]
  },
  {
   "cell_type": "markdown",
   "metadata": {},
   "source": [
    "Decompose the matrix as above"
   ]
  },
  {
   "cell_type": "markdown",
   "metadata": {},
   "source": [
    "$$\n",
    "\\begin{matrix}\n",
    "A=\\left[\\begin{matrix}\n",
    "2 & -1 & 1 \\\\\n",
    "2 & 2 & 2 \\\\\n",
    "-1 & -1 & 2\n",
    "\\end{matrix}\\right]\n",
    "&\n",
    "D=\\left[\\begin{matrix}\n",
    "2 & 0 & 0 \\\\\n",
    "0 & 2 & 0 \\\\\n",
    "0 & 0 & 2\n",
    "\\end{matrix}\\right]\n",
    "&\n",
    "U=\\left[\\begin{matrix}\n",
    "0 & 1 & -1 \\\\\n",
    "0 & 0 & -2 \\\\\n",
    "0 & 0 & 0\n",
    "\\end{matrix}\\right]\n",
    "&\n",
    "L=\\left[\\begin{matrix}\n",
    "0 & 0 & 0 \\\\\n",
    "-2 & 0 & 0 \\\\\n",
    "1 & 1 & 0\n",
    "\\end{matrix}\\right]\n",
    "&\n",
    "b=\\left[\\begin{matrix}\n",
    "-1 \\\\ 4 \\\\ -5\n",
    "\\end{matrix}\\right]\n",
    "\\end{matrix}\n",
    "$$"
   ]
  },
  {
   "cell_type": "markdown",
   "metadata": {},
   "source": [
    "Start with initial guess $x^{(0)}=0$, and $TOL=10^{-5}$"
   ]
  },
  {
   "cell_type": "code",
   "execution_count": 7,
   "metadata": {},
   "outputs": [],
   "source": [
    "A2=np.matrix([[2,-1,1],[2,2,2],[-1,-1,2]])\n",
    "b2=np.matrix([[-1],[4],[-5]])\n",
    "x0=np.matrix([[0],[0],[0]])"
   ]
  },
  {
   "cell_type": "markdown",
   "metadata": {},
   "source": [
    "The results are"
   ]
  },
  {
   "cell_type": "code",
   "execution_count": 8,
   "metadata": {},
   "outputs": [
    {
     "name": "stdout",
     "output_type": "stream",
     "text": [
      "[array([[ 0. ,  0.5, -0.5],\n",
      "       [-1. ,  0. , -1. ],\n",
      "       [ 0.5,  0.5,  0. ]]), matrix([[ 159.81867761],\n",
      "        [ 637.27471044],\n",
      "        [-159.81867761]]), 50]\n",
      "[array([[ 0. ,  0.5, -0.5],\n",
      "       [ 0. , -0.5, -0.5],\n",
      "       [ 0. ,  0. , -0.5]]), matrix([[ 0.99999571],\n",
      "        [ 2.00000477],\n",
      "        [-0.99999976]]), 22]\n",
      "[matrix([[ 1.],\n",
      "        [ 2.],\n",
      "        [-1.]])]\n"
     ]
    }
   ],
   "source": [
    "print(Jacobi(A2,b2,x0,0.00001))\n",
    "print(Gauss(A2,b2,x0,0.00001))\n",
    "print(Real(A1,b1))"
   ]
  },
  {
   "cell_type": "markdown",
   "metadata": {},
   "source": [
    "The approximate solution given by Jacobi Iteration is **not converge**; the approximate solution given by G-S Iteration is $[0.99999571,2.00000477,-0.99999976]^{T}$; the precise solution is $[1,2,-1]^{T}$."
   ]
  },
  {
   "cell_type": "markdown",
   "metadata": {},
   "source": [
    "***"
   ]
  },
  {
   "cell_type": "markdown",
   "metadata": {},
   "source": [
    "# Reviews"
   ]
  },
  {
   "cell_type": "markdown",
   "metadata": {},
   "source": [
    "For Linear System, it has iterate matrix $T_j$ and $T_s$. Let $T$ be the iteration matrix, the iteration converges under the following condition"
   ]
  },
  {
   "cell_type": "markdown",
   "metadata": {},
   "source": [
    "$$\n",
    "\\rho(T)<0\n",
    "$$"
   ]
  },
  {
   "cell_type": "markdown",
   "metadata": {},
   "source": [
    "Thus find the spectral radius of the two matrix $\\rho(T_j)$ and $\\rho(T_g)$. Recall that $\\rho(A)$ can be calculated by\n",
    "$$\n",
    "\\rho(A)=\\max\\limits_{1\\leq i\\leq n}|\\lambda_i|\n",
    "$$\n",
    "where $\\lambda_i$ is the eigenvalues of A. The function *linalg.eig()* is employed to calculate the eigenvalues. The function *TestConv* is made to test if the spectral radius of the two iteration matrix is smaller than 1."
   ]
  },
  {
   "cell_type": "code",
   "execution_count": 9,
   "metadata": {},
   "outputs": [],
   "source": [
    "def TestConv(A):\n",
    "    Tj=Jacobi(A,np.matrix([[0],[0],[0]]),np.matrix([[0],[0],[0]]),0.00001)[0]\n",
    "    Tg=Gauss(A,np.matrix([[0],[0],[0]]),np.matrix([[0],[0],[0]]),0.00001)[0]\n",
    "    eigTj=np.linalg.eig(Tj)[0]\n",
    "    eigTg=np.linalg.eig(Tg)[0]\n",
    "    phoTj=max(np.abs(eigTj))\n",
    "    phoTg=max(np.abs(eigTg))\n",
    "    if(phoTj < 1):\n",
    "        print(\"The spectral radius of Jacobian Iteration Matrix < 1, this linear system is converge using Jacobian Iteration Method\")\n",
    "    else:\n",
    "        print(\"The spectral radius of Jacobian Iteration Matrix >= 1, this linear system is not converge using Jacobian Iteration Method\")\n",
    "    \n",
    "    if(phoTg < 1):\n",
    "        print(\"The spectral radius of G-S Iteration Matrix < 1, this linear system is converge using Gauss-Seidel Iteration Method\")\n",
    "    else:\n",
    "        print(\"The spectral radius of G-S Iteration Matrix >= 1, this linear system is not converge using Gauss-Seidel Iteration Method\")"
   ]
  },
  {
   "cell_type": "markdown",
   "metadata": {},
   "source": [
    "## Linear System 1"
   ]
  },
  {
   "cell_type": "markdown",
   "metadata": {},
   "source": [
    "For the first linear system, it has $T_j$ and $T_s$ as"
   ]
  },
  {
   "cell_type": "markdown",
   "metadata": {},
   "source": [
    "$$\n",
    "T_j=\\left[\\begin{matrix}\n",
    "0 & -2 & 2 \\\\\n",
    "-1 & 0 & -1 \\\\\n",
    "-2 & -2 & 0\n",
    "\\end{matrix}\\right]\n",
    "\\quad\n",
    "T_s=\\left[\\begin{matrix}\n",
    "0 & -2 & 2 \\\\\n",
    "0 & 2 & -3 \\\\\n",
    "0 & 0 & 2\n",
    "\\end{matrix}\\right]\n",
    "$$"
   ]
  },
  {
   "cell_type": "markdown",
   "metadata": {},
   "source": [
    "Compare each spectral radius of two matrix with 1, the results are:"
   ]
  },
  {
   "cell_type": "code",
   "execution_count": 10,
   "metadata": {},
   "outputs": [
    {
     "name": "stdout",
     "output_type": "stream",
     "text": [
      "The spectral radius of Jacobian Iteration Matrix < 1, this linear system is converge using Jacobian Iteration Method\n",
      "The spectral radius of G-S Iteration Matrix >= 1, this linear system is not converge using Gauss-Seidel Iteration Method\n"
     ]
    }
   ],
   "source": [
    "TestConv(A1)"
   ]
  },
  {
   "cell_type": "markdown",
   "metadata": {},
   "source": [
    "## Linear System 2"
   ]
  },
  {
   "cell_type": "markdown",
   "metadata": {},
   "source": [
    "For Linear System 2, it has similar iterate matrix $T_j$ and $T_s$"
   ]
  },
  {
   "cell_type": "markdown",
   "metadata": {},
   "source": [
    "$$\n",
    "T_j=\\left[\\begin{matrix}\n",
    "0 & 0.5 & -0.5 \\\\\n",
    "-1 & 0 & -1 \\\\\n",
    "0.5 & 0.5 & 0\n",
    "\\end{matrix}\\right]\n",
    "\\quad\n",
    "T_s=\\left[\\begin{matrix}\n",
    "0 & 0.5 & -0.5 \\\\\n",
    "0 & -0.5 & -0.5 \\\\\n",
    "0 & 0 & -0.5\n",
    "\\end{matrix}\\right]\n",
    "$$"
   ]
  },
  {
   "cell_type": "markdown",
   "metadata": {},
   "source": [
    "Compare each spectral radius of two matrix with 1, the results are:"
   ]
  },
  {
   "cell_type": "code",
   "execution_count": 11,
   "metadata": {},
   "outputs": [
    {
     "name": "stdout",
     "output_type": "stream",
     "text": [
      "The spectral radius of Jacobian Iteration Matrix >= 1, this linear system is not converge using Jacobian Iteration Method\n",
      "The spectral radius of G-S Iteration Matrix < 1, this linear system is converge using Gauss-Seidel Iteration Method\n"
     ]
    }
   ],
   "source": [
    "TestConv(A2)"
   ]
  },
  {
   "cell_type": "markdown",
   "metadata": {},
   "source": [
    "# Conclusion"
   ]
  },
  {
   "cell_type": "markdown",
   "metadata": {},
   "source": [
    "The test of convergence using spectral radius has the same output as the function."
   ]
  },
  {
   "cell_type": "code",
   "execution_count": null,
   "metadata": {},
   "outputs": [],
   "source": []
  }
 ],
 "metadata": {
  "authors": [
   {
    "name": "Qifei Cui"
   }
  ],
  "kernelspec": {
   "display_name": "Python 3 (ipykernel)",
   "language": "python",
   "name": "python3"
  },
  "language_info": {
   "codemirror_mode": {
    "name": "ipython",
    "version": 3
   },
   "file_extension": ".py",
   "mimetype": "text/x-python",
   "name": "python",
   "nbconvert_exporter": "python",
   "pygments_lexer": "ipython3",
   "version": "3.11.2"
  },
  "title": "Math 104B CM1"
 },
 "nbformat": 4,
 "nbformat_minor": 4
}
